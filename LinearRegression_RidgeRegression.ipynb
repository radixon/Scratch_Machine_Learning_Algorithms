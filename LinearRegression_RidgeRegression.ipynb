{
 "cells": [
  {
   "cell_type": "code",
   "execution_count": 1,
   "id": "bb4c88c8",
   "metadata": {},
   "outputs": [],
   "source": [
    "def load_csv(filename):\n",
    "    import pandas as pd\n",
    "    df = pd.read_csv(filename)\n",
    "    df.rename(columns=lambda x: x.replace(\" \", \"_\"),inplace=True)\n",
    "    return df"
   ]
  },
  {
   "cell_type": "code",
   "execution_count": 2,
   "id": "1010e0fd",
   "metadata": {},
   "outputs": [],
   "source": [
    "class LinearRegression:   \n",
    "    def __init__(self, Predictors, Response):\n",
    "        \"\"\"\n",
    "        Initialize Parameters\n",
    "        \"\"\"\n",
    "        self.Predictors = Predictors      # Predictors are the input variables from the data\n",
    "        self.Response = Response          # Response is the output variable from the data\n",
    "        m, n = self.Predictors.shape\n",
    "        x = [0],[1]*(n)\n",
    "        self.beta = list(x)           # There is one beta for the intercept and a beta for each feature in the data\n",
    "        \n",
    "    def beta_ridge(self,ridge):\n",
    "        import numpy as np\n",
    "        \"\"\"\n",
    "        Beta_ridge = (X.T*X + lambda*I)^-1*X.T*y     where X.T represents X transpose and I is the identity matrix\n",
    "        \"\"\"\n",
    "        X = self.Predictors\n",
    "        y = self.Response\n",
    "        inputs = np.concatenate((np.ones((np.shape(X)[0],1)),X),axis=1)\n",
    "        \"\"\"\n",
    "        Variables for this function have been initialized\n",
    "        \"\"\"\n",
    "        self.beta = np.dot(np.dot(np.linalg.inv(np.dot(np.transpose(inputs),inputs)+np.dot(ridge,np.identity(inputs.shape[1]))),np.transpose(inputs)),y)\n",
    "        return self.beta\n",
    "    \n",
    "    def prediction(self, Predictors = []):\n",
    "        import numpy as np\n",
    "        b = self.beta\n",
    "        if not Predictors: Predictors = self.Predictors\n",
    "        y_pred = np.dot(Predictors,b)\n",
    "        return y_pred"
   ]
  },
  {
   "cell_type": "code",
   "execution_count": 3,
   "id": "e67c2233",
   "metadata": {},
   "outputs": [
    {
     "data": {
      "text/plain": [
       "Index(['name', 'mpg', 'cyl', 'disp', 'hp', 'drat', 'wt', 'qsec', 'vs', 'am',\n",
       "       'gear', 'carb'],\n",
       "      dtype='object')"
      ]
     },
     "execution_count": 3,
     "metadata": {},
     "output_type": "execute_result"
    }
   ],
   "source": [
    "data = load_csv('mtcars.csv')\n",
    "data.columns"
   ]
  },
  {
   "cell_type": "code",
   "execution_count": 4,
   "id": "a77c8649",
   "metadata": {},
   "outputs": [],
   "source": [
    "drop_list = ['name', 'mpg', 'cyl', 'disp', 'drat', 'qsec', 'vs', 'am', 'gear', 'carb']\n",
    "Predictors = data.drop(drop_list,axis=1)\n",
    "Response = data['mpg']"
   ]
  },
  {
   "cell_type": "code",
   "execution_count": 5,
   "id": "97afc142",
   "metadata": {},
   "outputs": [
    {
     "name": "stderr",
     "output_type": "stream",
     "text": [
      "C:\\Users\\ZellaDaGod\\.conda\\envs\\PyTorch\\lib\\site-packages\\seaborn\\_decorators.py:43: FutureWarning: Pass the following variables as keyword args: x, y, data. From version 0.12, the only valid positional argument will be `data`, and passing other arguments without an explicit keyword will result in an error or misinterpretation.\n",
      "  FutureWarning\n"
     ]
    },
    {
     "data": {
      "text/plain": [
       "<AxesSubplot:xlabel='hp', ylabel='mpg'>"
      ]
     },
     "execution_count": 5,
     "metadata": {},
     "output_type": "execute_result"
    },
    {
     "data": {
      "image/png": "[encoded data removed]",
      "text/plain": [
       "<Figure size 432x288 with 1 Axes>"
      ]
     },
     "metadata": {
      "needs_background": "light"
     },
     "output_type": "display_data"
    }
   ],
   "source": [
    "import seaborn as sns\n",
    "sns.regplot('hp', 'mpg', data, line_kws = {\"color\":\"r\"}, ci=None)"
   ]
  },
  {
   "cell_type": "code",
   "execution_count": 6,
   "id": "00389aca",
   "metadata": {},
   "outputs": [
    {
     "name": "stdout",
     "output_type": "stream",
     "text": [
      "Beta:  [ 3.72272701e+01 -3.17729470e-02 -3.87783074e+00]\n",
      "[22.58348256 31.486224   29.26460596]\n"
     ]
    }
   ],
   "source": [
    "x = [[1,110,2.875],[1,80,0.825],[1,95,1.275]]\n",
    "regressor = LinearRegression(Predictors, Response)\n",
    "regressor.beta_ridge(0)\n",
    "pred = regressor.prediction(x)\n",
    "print(\"Beta: \", regressor.beta)\n",
    "print(pred)"
   ]
  },
  {
   "cell_type": "code",
   "execution_count": 7,
   "id": "b688ebb3",
   "metadata": {},
   "outputs": [
    {
     "name": "stdout",
     "output_type": "stream",
     "text": [
      "Beta:  [ 3.39245227e+01 -3.23666897e-02 -2.90656437e+00]\n",
      "[22.00781425 28.9372719  27.14381758]\n"
     ]
    }
   ],
   "source": [
    "x = [[1,110,2.875],[1,80,0.825],[1,95,1.275]]\n",
    "regressor = LinearRegression(Predictors, Response)\n",
    "regressor.beta_ridge(0.25)\n",
    "pred = regressor.prediction(x)\n",
    "print(\"Beta: \", regressor.beta)\n",
    "print(pred)"
   ]
  },
  {
   "cell_type": "code",
   "execution_count": 8,
   "id": "432192b3",
   "metadata": {},
   "outputs": [
    {
     "name": "stdout",
     "output_type": "stream",
     "text": [
      "Beta:  [31.18583409 -0.03270701 -2.10887493]\n",
      "[21.52504731 26.82945128 25.38985238]\n"
     ]
    }
   ],
   "source": [
    "x = [[1,110,2.875],[1,80,0.825],[1,95,1.275]]\n",
    "regressor = LinearRegression(Predictors, Response)\n",
    "regressor.beta_ridge(0.5)\n",
    "pred = regressor.prediction(x)\n",
    "print(\"Beta: \", regressor.beta)\n",
    "print(pred)"
   ]
  },
  {
   "cell_type": "code",
   "execution_count": 9,
   "id": "44a3305b",
   "metadata": {},
   "outputs": [
    {
     "name": "stdout",
     "output_type": "stream",
     "text": [
      "Beta:  [28.87763789 -0.03285659 -1.44352537]\n",
      "[21.11327794 25.05820254 23.91576733]\n"
     ]
    }
   ],
   "source": [
    "x = [[1,110,2.875],[1,80,0.825],[1,95,1.275]]\n",
    "regressor = LinearRegression(Predictors, Response)\n",
    "regressor.beta_ridge(0.75)\n",
    "pred = regressor.prediction(x)\n",
    "print(\"Beta: \", regressor.beta)\n",
    "print(pred)"
   ]
  },
  {
   "cell_type": "code",
   "execution_count": 10,
   "id": "2c82ccad",
   "metadata": {},
   "outputs": [
    {
     "name": "stdout",
     "output_type": "stream",
     "text": [
      "Beta:  [26.90546248 -0.03285968 -0.88135188]\n",
      "[20.75701137 23.54957303 22.66006953]\n"
     ]
    }
   ],
   "source": [
    "x = [[1,110,2.875],[1,80,0.825],[1,95,1.275]]\n",
    "regressor = LinearRegression(Predictors, Response)\n",
    "regressor.beta_ridge(1)\n",
    "pred = regressor.prediction(x)\n",
    "print(\"Beta: \", regressor.beta)\n",
    "print(pred)"
   ]
  },
  {
   "cell_type": "code",
   "execution_count": null,
   "id": "5e2bb7a9",
   "metadata": {},
   "outputs": [],
   "source": []
  },
  {
   "cell_type": "code",
   "execution_count": null,
   "id": "ecb3abfb",
   "metadata": {},
   "outputs": [],
   "source": []
  },
  {
   "cell_type": "code",
   "execution_count": null,
   "id": "90cebf26",
   "metadata": {},
   "outputs": [],
   "source": []
  },
  {
   "cell_type": "code",
   "execution_count": null,
   "id": "ee63eeff",
   "metadata": {},
   "outputs": [],
   "source": []
  },
  {
   "cell_type": "code",
   "execution_count": null,
   "id": "db05f13c",
   "metadata": {},
   "outputs": [],
   "source": []
  },
  {
   "cell_type": "code",
   "execution_count": null,
   "id": "9e6fa158",
   "metadata": {},
   "outputs": [],
   "source": []
  },
  {
   "cell_type": "code",
   "execution_count": null,
   "id": "5e3fb52d",
   "metadata": {},
   "outputs": [],
   "source": []
  },
  {
   "cell_type": "code",
   "execution_count": null,
   "id": "2a540fbc",
   "metadata": {},
   "outputs": [],
   "source": []
  },
  {
   "cell_type": "code",
   "execution_count": null,
   "id": "dc52ea82",
   "metadata": {},
   "outputs": [],
   "source": []
  },
  {
   "cell_type": "code",
   "execution_count": null,
   "id": "417b8577",
   "metadata": {},
   "outputs": [],
   "source": []
  },
  {
   "cell_type": "code",
   "execution_count": null,
   "id": "edbd3476",
   "metadata": {},
   "outputs": [],
   "source": []
  },
  {
   "cell_type": "code",
   "execution_count": null,
   "id": "22f4e6ff",
   "metadata": {},
   "outputs": [],
   "source": []
  }
 ],
 "metadata": {
  "kernelspec": {
   "display_name": "Python 3",
   "language": "python",
   "name": "python3"
  },
  "language_info": {
   "codemirror_mode": {
    "name": "ipython",
    "version": 3
   },
   "file_extension": ".py",
   "mimetype": "text/x-python",
   "name": "python",
   "nbconvert_exporter": "python",
   "pygments_lexer": "ipython3",
   "version": "3.7.7"
  }
 },
 "nbformat": 4,
 "nbformat_minor": 5
}
