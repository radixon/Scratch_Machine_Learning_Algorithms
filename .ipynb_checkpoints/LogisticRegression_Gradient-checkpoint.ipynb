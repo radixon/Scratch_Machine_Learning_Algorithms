{
 "cells": [
  {
   "cell_type": "code",
   "execution_count": 1,
   "id": "bc9715cb-a6f9-47c7-aaee-eab81e662270",
   "metadata": {},
   "outputs": [],
   "source": [
    "def load_csv(filename):\n",
    "    import pandas as pd\n",
    "    df = pd.read_csv(filename,sep=\",\")\n",
    "    df.rename(columns=lambda x: x.replace(\" \", \"_\"),inplace=True)\n",
    "    return df"
   ]
  },
  {
   "cell_type": "code",
   "execution_count": 2,
   "id": "6de221b1-4cb2-4b7e-97e4-1f2e1b97997d",
   "metadata": {},
   "outputs": [],
   "source": [
    "class LogisticRegression:   \n",
    "    def __init__(self, Predictors, Response, learning_rate=0.001, iterations=10000):\n",
    "        import numpy as np\n",
    "        \"\"\"\n",
    "        Initialize Parameters\n",
    "        \"\"\"\n",
    "        # Predictors are the input variables from the data\n",
    "        self.Predictors = np.concatenate((np.ones((np.shape(Predictors)[0],1),dtype=int),Predictors),axis=1)\n",
    "        \n",
    "        # Response is the output variable from the data\n",
    "        self.Response = Response          \n",
    "        self.lr = learning_rate\n",
    "        self.iters = iterations\n",
    "        \n",
    "        # There is a weight associated with the intercept and a weight for each feature\n",
    "        self.m,self.n = self.Predictors.shape\n",
    "        self.weights = np.ones(self.n,dtype=int)\n",
    "        self.weights[0] = 0\n",
    "        \n",
    "    def sigm(self,Z):\n",
    "        \"\"\"\n",
    "        Sigmoid Function \n",
    "        sigm(Z) = exp(Z) / (1 + exp(Z)) = 1 / (1 + exp(-Z) \n",
    "        \"\"\"\n",
    "        import numpy as np\n",
    "        return 1 / (1 + np.exp(-Z))\n",
    "    \n",
    "    def mu(self,X):\n",
    "        \"\"\"\n",
    "        mu(X) = E[y | x] = p(y=1 | x) = sigm(w.T * X)\n",
    "        \"\"\"\n",
    "        import numpy as np\n",
    "        return self.sigm(np.dot(X,self.weights.T))\n",
    "    \n",
    "    def classification(self):\n",
    "        import numpy as np\n",
    "        \"\"\"\n",
    "        Steepest Descent\n",
    "        Weights = Weights - Learning_Rate * Gradient\n",
    "        \"\"\"\n",
    "        diff = np.inf\n",
    "        iterations = self.iters\n",
    "        \n",
    "        while diff > 0.01 and iterations > 0:  \n",
    "            p_hat = self.mu(self.Predictors)\n",
    "            gradient = np.dot(self.Predictors.T,(p_hat - self.Response))\n",
    "            self.weights = self.weights - np.dot(self.lr,gradient)\n",
    "                        \n",
    "            diff = np.abs(gradient).sum()\n",
    "            iterations -= 1\n",
    "        return self.weights\n",
    "    \n",
    "    def decision_rule(self,Y):\n",
    "        \"\"\"\n",
    "        y_hat(x) = 1 if and only if p(y=1 | x) >= 0.5\n",
    "        \"\"\"\n",
    "        for i in range(len(Y)):\n",
    "            if Y[i] >= 0.5:\n",
    "                Y[i] = 1\n",
    "            else:\n",
    "                Y[i] = 0\n",
    "        return Y\n",
    "            \n",
    "    def prediction(self, Predictors = []):\n",
    "        import numpy as np\n",
    "        if not Predictors: Predictors = self.Predictors\n",
    "        y_pred = self.mu(Predictors)\n",
    "        y_pred = self.decision_rule(y_pred)\n",
    "        return y_pred"
   ]
  },
  {
   "cell_type": "code",
   "execution_count": 3,
   "id": "b92ed5b8-a106-49f3-a662-6c578fc45a6e",
   "metadata": {},
   "outputs": [
    {
     "data": {
      "text/plain": [
       "Index(['ID_Number', 'Clump_Thickness', 'Unif_Cell_Size', 'Unif_Cell_Shape',\n",
       "       'Marg_Adhesion', 'Single_Epith_Cell_Size', 'Bare_Nuclei',\n",
       "       'Bland_Chromatin', 'Normal_Nucleoli', 'Mitoses', 'Class'],\n",
       "      dtype='object')"
      ]
     },
     "execution_count": 3,
     "metadata": {},
     "output_type": "execute_result"
    }
   ],
   "source": [
    "data = load_csv('Breast_Cancer_Wisconsin.csv')\n",
    "data.columns"
   ]
  },
  {
   "cell_type": "code",
   "execution_count": 4,
   "id": "467a17ac-1c6e-44b6-a7e2-e38fcc4c9730",
   "metadata": {},
   "outputs": [
    {
     "name": "stdout",
     "output_type": "stream",
     "text": [
      "1182404    6\n",
      "1276091    5\n",
      "1198641    3\n",
      "897471     2\n",
      "1116192    2\n",
      "          ..\n",
      "1232225    1\n",
      "1236043    1\n",
      "1241232    1\n",
      "1241559    1\n",
      "814265     1\n",
      "Name: ID_Number, Length: 645, dtype: int64\n",
      "1     145\n",
      "5     130\n",
      "3     108\n",
      "4      80\n",
      "10     69\n",
      "2      50\n",
      "8      46\n",
      "6      34\n",
      "7      23\n",
      "9      14\n",
      "Name: Clump_Thickness, dtype: int64\n",
      "1     384\n",
      "10     67\n",
      "3      52\n",
      "2      45\n",
      "4      40\n",
      "5      30\n",
      "8      29\n",
      "6      27\n",
      "7      19\n",
      "9       6\n",
      "Name: Unif_Cell_Size, dtype: int64\n",
      "1     353\n",
      "2      59\n",
      "10     58\n",
      "3      56\n",
      "4      44\n",
      "5      34\n",
      "6      30\n",
      "7      30\n",
      "8      28\n",
      "9       7\n",
      "Name: Unif_Cell_Shape, dtype: int64\n",
      "1     407\n",
      "3      58\n",
      "2      58\n",
      "10     55\n",
      "4      33\n",
      "8      25\n",
      "5      23\n",
      "6      22\n",
      "7      13\n",
      "9       5\n",
      "Name: Marg_Adhesion, dtype: int64\n",
      "2     386\n",
      "3      72\n",
      "4      48\n",
      "1      47\n",
      "6      41\n",
      "5      39\n",
      "10     31\n",
      "8      21\n",
      "7      12\n",
      "9       2\n",
      "Name: Single_Epith_Cell_Size, dtype: int64\n",
      "1     402\n",
      "10    132\n",
      "2      30\n",
      "5      30\n",
      "3      28\n",
      "8      21\n",
      "4      19\n",
      "?      16\n",
      "9       9\n",
      "7       8\n",
      "6       4\n",
      "Name: Bare_Nuclei, dtype: int64\n",
      "2     166\n",
      "3     165\n",
      "1     152\n",
      "7      73\n",
      "4      40\n",
      "5      34\n",
      "8      28\n",
      "10     20\n",
      "9      11\n",
      "6      10\n",
      "Name: Bland_Chromatin, dtype: int64\n",
      "1     443\n",
      "10     61\n",
      "3      44\n",
      "2      36\n",
      "8      24\n",
      "6      22\n",
      "5      19\n",
      "4      18\n",
      "7      16\n",
      "9      16\n",
      "Name: Normal_Nucleoli, dtype: int64\n",
      "1     579\n",
      "2      35\n",
      "3      33\n",
      "10     14\n",
      "4      12\n",
      "7       9\n",
      "8       8\n",
      "5       6\n",
      "6       3\n",
      "Name: Mitoses, dtype: int64\n",
      "2    458\n",
      "4    241\n",
      "Name: Class, dtype: int64\n"
     ]
    }
   ],
   "source": [
    "for i in data.columns:\n",
    "    print(data[i].value_counts())"
   ]
  },
  {
   "cell_type": "code",
   "execution_count": 5,
   "id": "6fcc88a0-29a4-4c6f-91e1-4f04b2f1bf83",
   "metadata": {},
   "outputs": [
    {
     "name": "stdout",
     "output_type": "stream",
     "text": [
      "1     402\n",
      "10    132\n",
      "2      30\n",
      "5      30\n",
      "3      28\n",
      "8      21\n",
      "4      19\n",
      "9       9\n",
      "7       8\n",
      "6       4\n",
      "Name: Bare_Nuclei, dtype: int64\n"
     ]
    }
   ],
   "source": [
    "import numpy as np\n",
    "data.replace({'?': np.nan}, inplace = True)\n",
    "data.dropna()\n",
    "print(data['Bare_Nuclei'].value_counts())"
   ]
  },
  {
   "cell_type": "code",
   "execution_count": 6,
   "id": "d06b6052-2b65-447c-abab-652c7e4f6d2d",
   "metadata": {},
   "outputs": [
    {
     "name": "stdout",
     "output_type": "stream",
     "text": [
      "0    458\n",
      "1    241\n",
      "Name: Class, dtype: int64\n"
     ]
    }
   ],
   "source": [
    "import pandas as pd\n",
    "drop_list = ['ID_Number','Bare_Nuclei','Class']\n",
    "Predictors = data.drop(drop_list,axis=1)\n",
    "Response = data['Class'].replace({2:0,4:1})\n",
    "print(Response.value_counts())"
   ]
  },
  {
   "cell_type": "code",
   "execution_count": 7,
   "id": "b04d4663-9d50-4815-9e0f-96b7dc88a78a",
   "metadata": {},
   "outputs": [
    {
     "name": "stdout",
     "output_type": "stream",
     "text": [
      "Weights:  [-9.93790637  0.57702178 -0.01124845  0.5676396   0.31346293  0.13030858\n",
      "  0.57943805  0.12321472  0.60675861]\n",
      "\n",
      "\n",
      "Predictions\n",
      "[0. 1. 1.]\n"
     ]
    }
   ],
   "source": [
    "x = [[1,5,1,1,1,2,3,1,1],[1,7,3,2,10,5,5,4,4],[1,10,8,4,3,2,3,1,2]]\n",
    "regressor = LogisticRegression(Predictors, Response)\n",
    "regressor.classification()\n",
    "pred = regressor.prediction(x)\n",
    "print(\"Weights: \", regressor.weights)\n",
    "print(); print()\n",
    "print(\"Predictions\")\n",
    "print(pred)"
   ]
  },
  {
   "cell_type": "code",
   "execution_count": null,
   "id": "b8d67456-caf8-4c95-bf78-d0b40ddd5b5c",
   "metadata": {},
   "outputs": [],
   "source": []
  },
  {
   "cell_type": "code",
   "execution_count": null,
   "id": "7ac227cb-59d6-4c81-808d-348e9b83db8d",
   "metadata": {},
   "outputs": [],
   "source": []
  },
  {
   "cell_type": "code",
   "execution_count": null,
   "id": "b0c79f62-d6ef-4ec4-a728-304e09ab7502",
   "metadata": {},
   "outputs": [],
   "source": []
  }
 ],
 "metadata": {
  "kernelspec": {
   "display_name": "Python 3 (ipykernel)",
   "language": "python",
   "name": "python3"
  },
  "language_info": {
   "codemirror_mode": {
    "name": "ipython",
    "version": 3
   },
   "file_extension": ".py",
   "mimetype": "text/x-python",
   "name": "python",
   "nbconvert_exporter": "python",
   "pygments_lexer": "ipython3",
   "version": "3.9.7"
  }
 },
 "nbformat": 4,
 "nbformat_minor": 5
}
